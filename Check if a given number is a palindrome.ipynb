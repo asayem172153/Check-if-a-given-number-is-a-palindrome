{
  "cells": [
    {
      "cell_type": "code",
      "execution_count": 1,
      "metadata": {
        "colab": {
          "base_uri": "https://localhost:8080/"
        },
        "id": "4fYGTqER40tB",
        "outputId": "fdd23e6d-b65c-4c14-f471-0a99704c721a"
      },
      "outputs": [
        {
          "name": "stdout",
          "output_type": "stream",
          "text": [
            "123321 is palindrome\n"
          ]
        }
      ],
      "source": [
        "number = int(input('Enter a number: '))\n",
        "number = str(number)\n",
        "flag = True\n",
        "\n",
        "for i in range(len(number)//2):\n",
        "  if number[i] != number[len(number)-i-1]:\n",
        "    flag = False\n",
        "    break\n",
        "\n",
        "if flag:\n",
        "  print(number,'is palindrome')\n",
        "else:\n",
        "  print(number,'is not palindrome')\n"
      ]
    },
    {
      "attachments": {},
      "cell_type": "markdown",
      "metadata": {
        "id": "lM9Vuk8T8KIe"
      },
      "source": [
        "**Another appraoch using reverse**"
      ]
    },
    {
      "cell_type": "code",
      "execution_count": null,
      "metadata": {
        "colab": {
          "base_uri": "https://localhost:8080/"
        },
        "id": "xKXckQy38Pfa",
        "outputId": "7347e8b2-5ead-4b27-e93c-d0e1c2a2a3c0"
      },
      "outputs": [
        {
          "name": "stdout",
          "output_type": "stream",
          "text": [
            "Enter a number: 12345654321\n",
            "12345654321 is palindrome\n"
          ]
        }
      ],
      "source": [
        "number = int(input('Enter a number: '))\n",
        "number = str(number)\n",
        "rev_number = number[::-1]\n",
        "\n",
        "if number == rev_number:\n",
        "  print(number,'is palindrome')\n",
        "else:\n",
        "  print(number,'is not palindrome')"
      ]
    }
  ],
  "metadata": {
    "colab": {
      "provenance": []
    },
    "kernelspec": {
      "display_name": "Python 3",
      "language": "python",
      "name": "python3"
    },
    "language_info": {
      "codemirror_mode": {
        "name": "ipython",
        "version": 3
      },
      "file_extension": ".py",
      "mimetype": "text/x-python",
      "name": "python",
      "nbconvert_exporter": "python",
      "pygments_lexer": "ipython3",
      "version": "3.11.1"
    },
    "vscode": {
      "interpreter": {
        "hash": "ebfc0a8d552866b0d59eba665220a57de3bc06f3ac643b8bef38dd8f66781fdd"
      }
    }
  },
  "nbformat": 4,
  "nbformat_minor": 0
}
